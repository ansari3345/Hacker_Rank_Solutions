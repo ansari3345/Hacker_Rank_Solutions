{
 "cells": [
  {
   "cell_type": "markdown",
   "id": "9a8e520b",
   "metadata": {},
   "source": [
    "# What's Your name"
   ]
  },
  {
   "cell_type": "code",
   "execution_count": null,
   "id": "2701e3c6",
   "metadata": {},
   "outputs": [],
   "source": [
    "def print_full_name(first, last):\n",
    "    \n",
    "    print('Hello {0} {1}! You just delved into python.'.format(first,last))\n",
    "    \n",
    "if __name__ == '__main__':\n",
    "    first_name = input()\n",
    "    last_name = input()\n",
    "    print_full_name(first_name, last_name)"
   ]
  }
 ],
 "metadata": {
  "kernelspec": {
   "display_name": "Python 3 (ipykernel)",
   "language": "python",
   "name": "python3"
  },
  "language_info": {
   "codemirror_mode": {
    "name": "ipython",
    "version": 3
   },
   "file_extension": ".py",
   "mimetype": "text/x-python",
   "name": "python",
   "nbconvert_exporter": "python",
   "pygments_lexer": "ipython3",
   "version": "3.9.7"
  }
 },
 "nbformat": 4,
 "nbformat_minor": 5
}
