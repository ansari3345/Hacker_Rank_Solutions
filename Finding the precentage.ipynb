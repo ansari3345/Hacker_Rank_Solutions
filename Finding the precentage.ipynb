{
 "cells": [
  {
   "cell_type": "markdown",
   "id": "2d028f7e",
   "metadata": {},
   "source": [
    "# Finding the Precentage"
   ]
  },
  {
   "cell_type": "code",
   "execution_count": null,
   "id": "4573b5b0",
   "metadata": {},
   "outputs": [],
   "source": [
    "if __name__ == '__main__':\n",
    "    n = int(input())\n",
    "    student_marks = {}\n",
    "    for _ in range(n):\n",
    "        name, *line = input().split()\n",
    "        scores = list(map(float, line))\n",
    "        student_marks[name] = scores\n",
    "        \n",
    "    query_name = input()\n",
    "    a = student_marks[query_name]\n",
    "    total = 0\n",
    "    for i in a:\n",
    "        total += i\n",
    "    print(total/len(a))"
   ]
  }
 ],
 "metadata": {
  "kernelspec": {
   "display_name": "Python 3 (ipykernel)",
   "language": "python",
   "name": "python3"
  },
  "language_info": {
   "codemirror_mode": {
    "name": "ipython",
    "version": 3
   },
   "file_extension": ".py",
   "mimetype": "text/x-python",
   "name": "python",
   "nbconvert_exporter": "python",
   "pygments_lexer": "ipython3",
   "version": "3.9.7"
  }
 },
 "nbformat": 4,
 "nbformat_minor": 5
}
