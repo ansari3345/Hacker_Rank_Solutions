{
 "cells": [
  {
   "cell_type": "markdown",
   "id": "28aafa9d",
   "metadata": {},
   "source": [
    "# Nested List"
   ]
  },
  {
   "cell_type": "code",
   "execution_count": null,
   "id": "947c3435",
   "metadata": {},
   "outputs": [],
   "source": [
    "if __name__ == '__main__':\n",
    "    \n",
    "    scores = []\n",
    "    for _ in range(int(input())):\n",
    "        name = input()\n",
    "        score = float(input())\n",
    "        scores.append([name,score])\n",
    "        \n",
    "     # to get second lowest score we have sort and change it to set   \n",
    "    score_set = sorted(set([i[1] for i in scores]))\n",
    "    \n",
    "    # this will print second lowest and store it in a variable\n",
    "    second_score = score_set[1]\n",
    "    \n",
    "     # this will sort and match if there is a 2 second lowest score and print names \n",
    "    names = sorted([i[0] for i in scores if i[1] == second_score])\n",
    "\n",
    "\n",
    "    for name in names:\n",
    "        print(name)"
   ]
  },
  {
   "cell_type": "code",
   "execution_count": null,
   "id": "aa102e5a",
   "metadata": {},
   "outputs": [],
   "source": []
  }
 ],
 "metadata": {
  "kernelspec": {
   "display_name": "Python 3 (ipykernel)",
   "language": "python",
   "name": "python3"
  },
  "language_info": {
   "codemirror_mode": {
    "name": "ipython",
    "version": 3
   },
   "file_extension": ".py",
   "mimetype": "text/x-python",
   "name": "python",
   "nbconvert_exporter": "python",
   "pygments_lexer": "ipython3",
   "version": "3.9.7"
  }
 },
 "nbformat": 4,
 "nbformat_minor": 5
}
